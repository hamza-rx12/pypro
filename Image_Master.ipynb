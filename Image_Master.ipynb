{
 "cells": [
  {
   "cell_type": "code",
   "execution_count": 1,
   "id": "e421b276",
   "metadata": {},
   "outputs": [],
   "source": [
    "from tkinter import *\n",
    "from tkinter import filedialog\n",
    "from PIL import Image,ImageTk\n",
    "import os\n",
    "import image\n",
    "import imagemaster\n",
    "import cv2"
   ]
  },
  {
   "cell_type": "code",
   "execution_count": 2,
   "id": "34be2b4b",
   "metadata": {},
   "outputs": [],
   "source": [
    "def importimage():\n",
    "    # importIm.destroy()\n",
    "    global filename\n",
    "    filename = filedialog.askopenfilename(\n",
    "        initialdir=os.getcwd(),\n",
    "        title=\"Select image file\",\n",
    "        filetypes=([\n",
    "                   (\"PNG file\", \"*.png\"),\n",
    "                   (\"JPG file\", \"*.jpg\"),\n",
    "                   (\"JPEG file\", \"*.jpeg\"),\n",
    "                   (\"ALL file\", \"*.txt\")\n",
    "        ])\n",
    "    )\n",
    "    importedimage = Image.open(filename)\n",
    "    importedimage = ImageTk.PhotoImage(importedimage)\n",
    "    global lbl\n",
    "    lbl=Label(frame1,image=importedimage)\n",
    "    lbl.image = importedimage \n",
    "    lbl.pack(padx=10,pady=10)\n",
    "    #lbl.place(relx=0.5, rely=0.5, anchor=CENTER)\n",
    "    \n"
   ]
  },
  {
   "cell_type": "code",
   "execution_count": 3,
   "id": "fc40693e",
   "metadata": {},
   "outputs": [],
   "source": [
    "root = Tk()\n",
    "root.title(\"Image Master\")\n",
    "root.config(bg=\"#1e1e1e\")\n",
    "frame1 = LabelFrame(root, text=\"Image: \", padx=10, pady=10, width=700, height=600, bg=\"#1e1e1e\", fg=\"white\")\n",
    "frame1.pack(padx=10,pady=10)\n",
    "frame2 = LabelFrame(root, text=\"Tools: \", padx=10, pady=10, width=700, height=300, bg=\"#1e1e1e\", fg=\"white\")\n",
    "frame2.pack(padx=10,pady=10)\n",
    "importIm = Button(frame1, text=\"Import Image\", command=importimage)\n",
    "importIm.place(relx=0.5, rely=0.5, anchor=CENTER)"
   ]
  },
  {
   "cell_type": "code",
   "execution_count": 4,
   "id": "071ed99b",
   "metadata": {},
   "outputs": [],
   "source": [
    "#Button(frame2, text=\"BLUR\", width=12, height=2, font=\"arial 14 bold\", command=blurimage).place(x=10,y=50)\n",
    "Button(frame2, text=\"CONTOUR\", width=12, height=2, font=\"arial 14 bold\", command=None).pack()\n",
    "#Button(frame2, text=\"EMBOSS\", width=12, height=2, font=\"arial 14 bold\", command=embossimage).place(x=300, y=50)"
   ]
  },
  {
   "cell_type": "code",
   "execution_count": 5,
   "id": "5e2b88ab",
   "metadata": {},
   "outputs": [],
   "source": [
    "root.mainloop()"
   ]
  },
  {
   "cell_type": "code",
   "execution_count": 2,
   "id": "5e57287d",
   "metadata": {},
   "outputs": [
    {
     "name": "stdout",
     "output_type": "stream",
     "text": [
      "['edge_detect']\n"
     ]
    },
    {
     "name": "stderr",
     "output_type": "stream",
     "text": [
      "qt.qpa.plugin: Could not find the Qt platform plugin \"wayland\" in \"/home/natsu/miniconda3/lib/python3.12/site-packages/cv2/qt/plugins\"\n"
     ]
    }
   ],
   "source": [
    "im=imagemaster.imageProcessor(\"./src/free-images.jpg\")\n",
    "im.applyFilter(\"edge_detect\")\n",
    "print(im.filterList)\n",
    "im.image.show()\n",
    "npimage = cv2.imread(\"./src/image.jpg\");\n",
    "\n"
   ]
  },
  {
   "cell_type": "code",
   "execution_count": 5,
   "id": "294b4cfb",
   "metadata": {},
   "outputs": [
    {
     "name": "stdout",
     "output_type": "stream",
     "text": [
      "Error: ('dark', 'is not a valid theme.')\n"
     ]
    }
   ],
   "source": [
    "import tkinter as tk\n",
    "from ttkbootstrap import Style\n",
    "\n",
    "def on_switch_toggle():\n",
    "    print(\"Switch state:\", var.get())\n",
    "\n",
    "root = tk.Tk()\n",
    "root.title(\"Dark Switch Demo\")\n",
    "\n",
    "try:\n",
    "    # Create a ttkbootstrap style with the dark theme\n",
    "    style = Style(theme=\"dark\")\n",
    "\n",
    "    # Apply the style to the root window\n",
    "    style.theme_use(\"dark\")\n",
    "\n",
    "    # Create a Checkbutton variable\n",
    "    var = tk.BooleanVar()\n",
    "\n",
    "    # Create a Checkbutton styled like a switch\n",
    "    switch = tk.Checkbutton(root, variable=var, command=on_switch_toggle,\n",
    "                             onvalue=True, offvalue=False,\n",
    "                             indicatoron=False, selectcolor=style.theme_cls.primary)\n",
    "\n",
    "    switch.pack()\n",
    "except Exception as e:\n",
    "    # If an error occurs, print the error message\n",
    "    print(\"Error:\", e)\n",
    "\n",
    "root.mainloop()\n"
   ]
  },
  {
   "cell_type": "code",
   "execution_count": 15,
   "id": "03c41f4f",
   "metadata": {},
   "outputs": [
    {
     "name": "stdout",
     "output_type": "stream",
     "text": [
      "2\n"
     ]
    }
   ],
   "source": [
    "str=[\"hamza\",None]\n",
    "print(len(str))"
   ]
  },
  {
   "cell_type": "code",
   "execution_count": 16,
   "id": "b71b13fd",
   "metadata": {},
   "outputs": [
    {
     "ename": "ModuleNotFoundError",
     "evalue": "No module named 'mediapipe'",
     "output_type": "error",
     "traceback": [
      "\u001b[0;31m---------------------------------------------------------------------------\u001b[0m",
      "\u001b[0;31mModuleNotFoundError\u001b[0m                       Traceback (most recent call last)",
      "Cell \u001b[0;32mIn[16], line 3\u001b[0m\n\u001b[1;32m      1\u001b[0m \u001b[38;5;28;01mimport\u001b[39;00m \u001b[38;5;21;01mcv2\u001b[39;00m\n\u001b[1;32m      2\u001b[0m \u001b[38;5;28;01mimport\u001b[39;00m \u001b[38;5;21;01mcvzone\u001b[39;00m\n\u001b[0;32m----> 3\u001b[0m \u001b[38;5;28;01mfrom\u001b[39;00m \u001b[38;5;21;01mcvzone\u001b[39;00m\u001b[38;5;21;01m.\u001b[39;00m\u001b[38;5;21;01mSelfiSegmentationModule\u001b[39;00m \u001b[38;5;28;01mimport\u001b[39;00m SelfiSegmentation\n\u001b[1;32m      5\u001b[0m segmentor \u001b[38;5;241m=\u001b[39m SelfiSegmentation()\n\u001b[1;32m      7\u001b[0m \u001b[38;5;66;03m# read image\u001b[39;00m\n",
      "File \u001b[0;32m~/miniconda3/lib/python3.12/site-packages/cvzone/SelfiSegmentationModule.py:2\u001b[0m\n\u001b[1;32m      1\u001b[0m \u001b[38;5;28;01mimport\u001b[39;00m \u001b[38;5;21;01mcv2\u001b[39;00m\n\u001b[0;32m----> 2\u001b[0m \u001b[38;5;28;01mimport\u001b[39;00m \u001b[38;5;21;01mmediapipe\u001b[39;00m \u001b[38;5;28;01mas\u001b[39;00m \u001b[38;5;21;01mmp\u001b[39;00m\n\u001b[1;32m      3\u001b[0m \u001b[38;5;28;01mimport\u001b[39;00m \u001b[38;5;21;01mnumpy\u001b[39;00m \u001b[38;5;28;01mas\u001b[39;00m \u001b[38;5;21;01mnp\u001b[39;00m\n\u001b[1;32m      5\u001b[0m \u001b[38;5;28;01mimport\u001b[39;00m \u001b[38;5;21;01mcvzone\u001b[39;00m\n",
      "\u001b[0;31mModuleNotFoundError\u001b[0m: No module named 'mediapipe'"
     ]
    }
   ],
   "source": [
    "\n",
    "import cv2\n",
    "import cvzone\n",
    "from cvzone.SelfiSegmentationModule import SelfiSegmentation\n",
    "\n",
    "segmentor = SelfiSegmentation()\n",
    "\n",
    "# read image\n",
    "imgOffice = cv2.imread('./src/image.jpg')\n",
    "\n",
    "#resize office to 640x480\n",
    "imgOffice = cv2.resize(imgOffice, (640, 480))\n",
    "\n",
    "green = (0, 255, 0)\n",
    "\n",
    "imgNoBg = segmentor.removeBG(imgOffice, green, threshold=0.50)\n",
    "\n",
    "# show both images\n",
    "cv2.imshow('office',imgOffice)\n",
    "cv2.imshow('office no bg',imgNoBg)\n",
    "\n",
    "\n",
    "cv2.waitKey(0)\n",
    "cv2.destroyAllWindows()"
   ]
  },
  {
   "cell_type": "code",
   "execution_count": 5,
   "id": "46dbad0a",
   "metadata": {},
   "outputs": [
    {
     "data": {
      "text/plain": [
       "True"
      ]
     },
     "execution_count": 5,
     "metadata": {},
     "output_type": "execute_result"
    }
   ],
   "source": [
    "\n",
    "import cv2\n",
    "import numpy as np\n",
    "\n",
    "# Read image\n",
    "img = cv2.imread('./src/image.jpg')\n",
    "hh, ww = img.shape[:2]\n",
    "\n",
    "# threshold on white\n",
    "# Define lower and uppper limits\n",
    "lower = np.array([200, 200, 200])\n",
    "upper = np.array([255, 255, 255])\n",
    "\n",
    "# Create mask to only select black\n",
    "thresh = cv2.inRange(img, lower, upper)\n",
    "\n",
    "# apply morphology\n",
    "kernel = cv2.getStructuringElement(cv2.MORPH_ELLIPSE, (20,20))\n",
    "morph = cv2.morphologyEx(thresh, cv2.MORPH_CLOSE, kernel)\n",
    "\n",
    "# invert morp image\n",
    "mask = 255 - morph\n",
    "\n",
    "# apply mask to image\n",
    "result = cv2.bitwise_and(img, img, mask=mask)\n",
    "cv2.imwrite('pills_result.png', result)\n",
    "\n",
    "# cv2.imshow('result', result)"
   ]
  },
  {
   "cell_type": "code",
   "execution_count": 6,
   "id": "26f546ff",
   "metadata": {},
   "outputs": [
    {
     "ename": "AttributeError",
     "evalue": "module 'PIL.Image' has no attribute 'CUBIC'",
     "output_type": "error",
     "traceback": [
      "\u001b[0;31m---------------------------------------------------------------------------\u001b[0m",
      "\u001b[0;31mAttributeError\u001b[0m                            Traceback (most recent call last)",
      "Cell \u001b[0;32mIn[6], line 3\u001b[0m\n\u001b[1;32m      1\u001b[0m \u001b[38;5;28;01mfrom\u001b[39;00m \u001b[38;5;21;01mttkbootstrap\u001b[39;00m \u001b[38;5;28;01mimport\u001b[39;00m \u001b[38;5;241m*\u001b[39m\n\u001b[1;32m      2\u001b[0m \u001b[38;5;66;03m# default meter style\u001b[39;00m\n\u001b[0;32m----> 3\u001b[0m \u001b[43mMeter\u001b[49m\u001b[43m(\u001b[49m\u001b[43m)\u001b[49m\n\u001b[1;32m      5\u001b[0m \u001b[38;5;66;03m# info colored meter\u001b[39;00m\n\u001b[1;32m      6\u001b[0m Meter(bootstyle\u001b[38;5;241m=\u001b[39m\u001b[38;5;124m\"\u001b[39m\u001b[38;5;124minfo\u001b[39m\u001b[38;5;124m\"\u001b[39m)\n",
      "File \u001b[0;32m~/miniconda3/lib/python3.12/site-packages/ttkbootstrap/widgets.py:718\u001b[0m, in \u001b[0;36mMeter.__init__\u001b[0;34m(self, master, bootstyle, arcrange, arcoffset, amounttotal, amountused, wedgesize, metersize, metertype, meterthickness, showtext, interactive, stripethickness, textleft, textright, textfont, subtext, subtextstyle, subtextfont, stepsize, **kwargs)\u001b[0m\n\u001b[1;32m    715\u001b[0m \u001b[38;5;28mself\u001b[39m\u001b[38;5;241m.\u001b[39m_interactive \u001b[38;5;241m=\u001b[39m interactive\n\u001b[1;32m    716\u001b[0m \u001b[38;5;28mself\u001b[39m\u001b[38;5;241m.\u001b[39m_bindids \u001b[38;5;241m=\u001b[39m {}\n\u001b[0;32m--> 718\u001b[0m \u001b[38;5;28;43mself\u001b[39;49m\u001b[38;5;241;43m.\u001b[39;49m\u001b[43m_setup_widget\u001b[49m\u001b[43m(\u001b[49m\u001b[43m)\u001b[49m\n",
      "File \u001b[0;32m~/miniconda3/lib/python3.12/site-packages/ttkbootstrap/widgets.py:759\u001b[0m, in \u001b[0;36mMeter._setup_widget\u001b[0;34m(self)\u001b[0m\n\u001b[1;32m    757\u001b[0m \u001b[38;5;28mself\u001b[39m\u001b[38;5;241m.\u001b[39m_set_interactive_bind()\n\u001b[1;32m    758\u001b[0m \u001b[38;5;28mself\u001b[39m\u001b[38;5;241m.\u001b[39m_draw_base_image()\n\u001b[0;32m--> 759\u001b[0m \u001b[38;5;28;43mself\u001b[39;49m\u001b[38;5;241;43m.\u001b[39;49m\u001b[43m_draw_meter\u001b[49m\u001b[43m(\u001b[49m\u001b[43m)\u001b[49m\n\u001b[1;32m    761\u001b[0m \u001b[38;5;66;03m# set widget geometery\u001b[39;00m\n\u001b[1;32m    762\u001b[0m \u001b[38;5;28mself\u001b[39m\u001b[38;5;241m.\u001b[39mindicator\u001b[38;5;241m.\u001b[39mplace(x\u001b[38;5;241m=\u001b[39m\u001b[38;5;241m0\u001b[39m, y\u001b[38;5;241m=\u001b[39m\u001b[38;5;241m0\u001b[39m)\n",
      "File \u001b[0;32m~/miniconda3/lib/python3.12/site-packages/ttkbootstrap/widgets.py:856\u001b[0m, in \u001b[0;36mMeter._draw_meter\u001b[0;34m(self, *_)\u001b[0m\n\u001b[1;32m    852\u001b[0m \u001b[38;5;28;01melse\u001b[39;00m:\n\u001b[1;32m    853\u001b[0m     \u001b[38;5;28mself\u001b[39m\u001b[38;5;241m.\u001b[39m_draw_solid_meter(draw)\n\u001b[1;32m    855\u001b[0m \u001b[38;5;28mself\u001b[39m\u001b[38;5;241m.\u001b[39m_meterimage \u001b[38;5;241m=\u001b[39m ImageTk\u001b[38;5;241m.\u001b[39mPhotoImage(\n\u001b[0;32m--> 856\u001b[0m     img\u001b[38;5;241m.\u001b[39mresize((\u001b[38;5;28mself\u001b[39m\u001b[38;5;241m.\u001b[39m_metersize, \u001b[38;5;28mself\u001b[39m\u001b[38;5;241m.\u001b[39m_metersize), \u001b[43mImage\u001b[49m\u001b[38;5;241;43m.\u001b[39;49m\u001b[43mCUBIC\u001b[49m)\n\u001b[1;32m    857\u001b[0m )\n\u001b[1;32m    858\u001b[0m \u001b[38;5;28mself\u001b[39m\u001b[38;5;241m.\u001b[39mindicator\u001b[38;5;241m.\u001b[39mconfigure(image\u001b[38;5;241m=\u001b[39m\u001b[38;5;28mself\u001b[39m\u001b[38;5;241m.\u001b[39m_meterimage)\n",
      "\u001b[0;31mAttributeError\u001b[0m: module 'PIL.Image' has no attribute 'CUBIC'"
     ]
    }
   ],
   "source": [
    "from ttkbootstrap import *\n",
    "# default meter style\n",
    "Meter()\n",
    "\n",
    "# info colored meter\n",
    "Meter(bootstyle=\"info\")\n",
    "\n",
    "# danger color subtext\n",
    "Meter(subtextstyle=\"danger\")\n",
    "\n",
    "# success colored meter with warning colored subtext\n",
    "Meter(bootstyle=\"success\", subtextstyle=\"warning\")\n"
   ]
  },
  {
   "cell_type": "code",
   "execution_count": 22,
   "id": "00209666",
   "metadata": {},
   "outputs": [
    {
     "name": "stdout",
     "output_type": "stream",
     "text": [
      "Received one argument: 1\n",
      "(10,)\n",
      "Received two arguments: 2\n",
      "hamza 1 hamza True\n",
      "<class 'int'>\n",
      "<class 'float'>\n",
      "<class 'str'>\n"
     ]
    }
   ],
   "source": [
    "class MyClass:\n",
    "    def my_method(self, *args):\n",
    "        if len(args) == 1:\n",
    "            # Method behavior for one argument\n",
    "            print(\"Received one argument:\", len(args))\n",
    "            print(args)\n",
    "        elif len(args) == 2:\n",
    "            # Method behavior for two arguments\n",
    "            print(\"Received two arguments:\", len(args))\n",
    "\n",
    "# Usage\n",
    "obj = MyClass()\n",
    "obj.my_method(10)          # Output: Received one argument: 10\n",
    "obj.my_method(20, 30) \n",
    "print(\"hamza\",len((\"hamza\",)),(\"hamza\",)[0],\"hamza\"==(\"hamza\",)[0])\n",
    "x=(1,1.5,\"hello\")\n",
    "for t in x: print(type(t))"
   ]
  },
  {
   "cell_type": "code",
   "execution_count": 1,
   "id": "0151f2de",
   "metadata": {},
   "outputs": [
    {
     "name": "stdout",
     "output_type": "stream",
     "text": [
      "0\n"
     ]
    }
   ],
   "source": [
    "print(0%2)"
   ]
  }
 ],
 "metadata": {
  "kernelspec": {
   "display_name": "Python 3 (ipykernel)",
   "language": "python",
   "name": "python3"
  },
  "language_info": {
   "codemirror_mode": {
    "name": "ipython",
    "version": 3
   },
   "file_extension": ".py",
   "mimetype": "text/x-python",
   "name": "python",
   "nbconvert_exporter": "python",
   "pygments_lexer": "ipython3",
   "version": "3.12.2"
  }
 },
 "nbformat": 4,
 "nbformat_minor": 5
}
