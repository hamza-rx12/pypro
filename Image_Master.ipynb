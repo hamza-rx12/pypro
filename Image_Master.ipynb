{
 "cells": [
  {
   "cell_type": "code",
   "execution_count": 1,
   "id": "e421b276",
   "metadata": {},
   "outputs": [],
   "source": [
    "from tkinter import *\n",
    "from tkinter import filedialog\n",
    "from PIL import Image,ImageTk\n",
    "import os\n",
    "import image\n",
    "import imagemaster\n",
    "import cv2"
   ]
  },
  {
   "cell_type": "code",
   "execution_count": 2,
   "id": "34be2b4b",
   "metadata": {},
   "outputs": [],
   "source": [
    "def importimage():\n",
    "    # importIm.destroy()\n",
    "    global filename\n",
    "    filename = filedialog.askopenfilename(\n",
    "        initialdir=os.getcwd(),\n",
    "        title=\"Select image file\",\n",
    "        filetypes=([\n",
    "                   (\"PNG file\", \"*.png\"),\n",
    "                   (\"JPG file\", \"*.jpg\"),\n",
    "                   (\"JPEG file\", \"*.jpeg\"),\n",
    "                   (\"ALL file\", \"*.txt\")\n",
    "        ])\n",
    "    )\n",
    "    importedimage = Image.open(filename)\n",
    "    importedimage = ImageTk.PhotoImage(importedimage)\n",
    "    global lbl\n",
    "    lbl=Label(frame1,image=importedimage)\n",
    "    lbl.image = importedimage \n",
    "    lbl.pack(padx=10,pady=10)\n",
    "    #lbl.place(relx=0.5, rely=0.5, anchor=CENTER)\n",
    "    \n"
   ]
  },
  {
   "cell_type": "code",
   "execution_count": 3,
   "id": "fc40693e",
   "metadata": {},
   "outputs": [],
   "source": [
    "root = Tk()\n",
    "root.title(\"Image Master\")\n",
    "root.config(bg=\"#1e1e1e\")\n",
    "frame1 = LabelFrame(root, text=\"Image: \", padx=10, pady=10, width=700, height=600, bg=\"#1e1e1e\", fg=\"white\")\n",
    "frame1.pack(padx=10,pady=10)\n",
    "frame2 = LabelFrame(root, text=\"Tools: \", padx=10, pady=10, width=700, height=300, bg=\"#1e1e1e\", fg=\"white\")\n",
    "frame2.pack(padx=10,pady=10)\n",
    "importIm = Button(frame1, text=\"Import Image\", command=importimage)\n",
    "importIm.place(relx=0.5, rely=0.5, anchor=CENTER)"
   ]
  },
  {
   "cell_type": "code",
   "execution_count": 4,
   "id": "071ed99b",
   "metadata": {},
   "outputs": [],
   "source": [
    "#Button(frame2, text=\"BLUR\", width=12, height=2, font=\"arial 14 bold\", command=blurimage).place(x=10,y=50)\n",
    "Button(frame2, text=\"CONTOUR\", width=12, height=2, font=\"arial 14 bold\", command=None).pack()\n",
    "#Button(frame2, text=\"EMBOSS\", width=12, height=2, font=\"arial 14 bold\", command=embossimage).place(x=300, y=50)"
   ]
  },
  {
   "cell_type": "code",
   "execution_count": 5,
   "id": "5e2b88ab",
   "metadata": {},
   "outputs": [],
   "source": [
    "root.mainloop()"
   ]
  },
  {
   "cell_type": "code",
   "execution_count": 2,
   "id": "5e57287d",
   "metadata": {},
   "outputs": [
    {
     "name": "stdout",
     "output_type": "stream",
     "text": [
      "['edge_detect']\n"
     ]
    },
    {
     "name": "stderr",
     "output_type": "stream",
     "text": [
      "qt.qpa.plugin: Could not find the Qt platform plugin \"wayland\" in \"/home/natsu/miniconda3/lib/python3.12/site-packages/cv2/qt/plugins\"\n"
     ]
    }
   ],
   "source": [
    "im=imagemaster.imageProcessor(\"./src/free-images.jpg\")\n",
    "im.applyFilter(\"edge_detect\")\n",
    "print(im.filterList)\n",
    "im.image.show()\n",
    "npimage = cv2.imread(\"./src/image.jpg\");\n",
    "\n"
   ]
  },
  {
   "cell_type": "code",
   "execution_count": 5,
   "id": "294b4cfb",
   "metadata": {},
   "outputs": [
    {
     "name": "stdout",
     "output_type": "stream",
     "text": [
      "Error: ('dark', 'is not a valid theme.')\n"
     ]
    }
   ],
   "source": [
    "import tkinter as tk\n",
    "from ttkbootstrap import Style\n",
    "\n",
    "def on_switch_toggle():\n",
    "    print(\"Switch state:\", var.get())\n",
    "\n",
    "root = tk.Tk()\n",
    "root.title(\"Dark Switch Demo\")\n",
    "\n",
    "try:\n",
    "    # Create a ttkbootstrap style with the dark theme\n",
    "    style = Style(theme=\"dark\")\n",
    "\n",
    "    # Apply the style to the root window\n",
    "    style.theme_use(\"dark\")\n",
    "\n",
    "    # Create a Checkbutton variable\n",
    "    var = tk.BooleanVar()\n",
    "\n",
    "    # Create a Checkbutton styled like a switch\n",
    "    switch = tk.Checkbutton(root, variable=var, command=on_switch_toggle,\n",
    "                             onvalue=True, offvalue=False,\n",
    "                             indicatoron=False, selectcolor=style.theme_cls.primary)\n",
    "\n",
    "    switch.pack()\n",
    "except Exception as e:\n",
    "    # If an error occurs, print the error message\n",
    "    print(\"Error:\", e)\n",
    "\n",
    "root.mainloop()\n"
   ]
  },
  {
   "cell_type": "code",
   "execution_count": 15,
   "id": "03c41f4f",
   "metadata": {},
   "outputs": [
    {
     "name": "stdout",
     "output_type": "stream",
     "text": [
      "2\n"
     ]
    }
   ],
   "source": [
    "str=[\"hamza\",None]\n",
    "print(len(str))"
   ]
  },
  {
   "cell_type": "code",
   "execution_count": 16,
   "id": "b71b13fd",
   "metadata": {},
   "outputs": [
    {
     "ename": "ModuleNotFoundError",
     "evalue": "No module named 'mediapipe'",
     "output_type": "error",
     "traceback": [
      "\u001b[0;31m---------------------------------------------------------------------------\u001b[0m",
      "\u001b[0;31mModuleNotFoundError\u001b[0m                       Traceback (most recent call last)",
      "Cell \u001b[0;32mIn[16], line 3\u001b[0m\n\u001b[1;32m      1\u001b[0m \u001b[38;5;28;01mimport\u001b[39;00m \u001b[38;5;21;01mcv2\u001b[39;00m\n\u001b[1;32m      2\u001b[0m \u001b[38;5;28;01mimport\u001b[39;00m \u001b[38;5;21;01mcvzone\u001b[39;00m\n\u001b[0;32m----> 3\u001b[0m \u001b[38;5;28;01mfrom\u001b[39;00m \u001b[38;5;21;01mcvzone\u001b[39;00m\u001b[38;5;21;01m.\u001b[39;00m\u001b[38;5;21;01mSelfiSegmentationModule\u001b[39;00m \u001b[38;5;28;01mimport\u001b[39;00m SelfiSegmentation\n\u001b[1;32m      5\u001b[0m segmentor \u001b[38;5;241m=\u001b[39m SelfiSegmentation()\n\u001b[1;32m      7\u001b[0m \u001b[38;5;66;03m# read image\u001b[39;00m\n",
      "File \u001b[0;32m~/miniconda3/lib/python3.12/site-packages/cvzone/SelfiSegmentationModule.py:2\u001b[0m\n\u001b[1;32m      1\u001b[0m \u001b[38;5;28;01mimport\u001b[39;00m \u001b[38;5;21;01mcv2\u001b[39;00m\n\u001b[0;32m----> 2\u001b[0m \u001b[38;5;28;01mimport\u001b[39;00m \u001b[38;5;21;01mmediapipe\u001b[39;00m \u001b[38;5;28;01mas\u001b[39;00m \u001b[38;5;21;01mmp\u001b[39;00m\n\u001b[1;32m      3\u001b[0m \u001b[38;5;28;01mimport\u001b[39;00m \u001b[38;5;21;01mnumpy\u001b[39;00m \u001b[38;5;28;01mas\u001b[39;00m \u001b[38;5;21;01mnp\u001b[39;00m\n\u001b[1;32m      5\u001b[0m \u001b[38;5;28;01mimport\u001b[39;00m \u001b[38;5;21;01mcvzone\u001b[39;00m\n",
      "\u001b[0;31mModuleNotFoundError\u001b[0m: No module named 'mediapipe'"
     ]
    }
   ],
   "source": [
    "\n",
    "import cv2\n",
    "import cvzone\n",
    "from cvzone.SelfiSegmentationModule import SelfiSegmentation\n",
    "\n",
    "segmentor = SelfiSegmentation()\n",
    "\n",
    "# read image\n",
    "imgOffice = cv2.imread('./src/image.jpg')\n",
    "\n",
    "#resize office to 640x480\n",
    "imgOffice = cv2.resize(imgOffice, (640, 480))\n",
    "\n",
    "green = (0, 255, 0)\n",
    "\n",
    "imgNoBg = segmentor.removeBG(imgOffice, green, threshold=0.50)\n",
    "\n",
    "# show both images\n",
    "cv2.imshow('office',imgOffice)\n",
    "cv2.imshow('office no bg',imgNoBg)\n",
    "\n",
    "\n",
    "cv2.waitKey(0)\n",
    "cv2.destroyAllWindows()"
   ]
  },
  {
   "cell_type": "code",
   "execution_count": 5,
   "id": "46dbad0a",
   "metadata": {},
   "outputs": [
    {
     "data": {
      "text/plain": [
       "True"
      ]
     },
     "execution_count": 5,
     "metadata": {},
     "output_type": "execute_result"
    }
   ],
   "source": [
    "\n",
    "import cv2\n",
    "import numpy as np\n",
    "\n",
    "# Read image\n",
    "img = cv2.imread('./src/image.jpg')\n",
    "hh, ww = img.shape[:2]\n",
    "\n",
    "# threshold on white\n",
    "# Define lower and uppper limits\n",
    "lower = np.array([200, 200, 200])\n",
    "upper = np.array([255, 255, 255])\n",
    "\n",
    "# Create mask to only select black\n",
    "thresh = cv2.inRange(img, lower, upper)\n",
    "\n",
    "# apply morphology\n",
    "kernel = cv2.getStructuringElement(cv2.MORPH_ELLIPSE, (20,20))\n",
    "morph = cv2.morphologyEx(thresh, cv2.MORPH_CLOSE, kernel)\n",
    "\n",
    "# invert morp image\n",
    "mask = 255 - morph\n",
    "\n",
    "# apply mask to image\n",
    "result = cv2.bitwise_and(img, img, mask=mask)\n",
    "cv2.imwrite('pills_result.png', result)\n",
    "\n",
    "# cv2.imshow('result', result)"
   ]
  },
  {
   "cell_type": "code",
   "execution_count": 6,
   "id": "26f546ff",
   "metadata": {},
   "outputs": [
    {
     "ename": "AttributeError",
     "evalue": "module 'PIL.Image' has no attribute 'CUBIC'",
     "output_type": "error",
     "traceback": [
      "\u001b[0;31m---------------------------------------------------------------------------\u001b[0m",
      "\u001b[0;31mAttributeError\u001b[0m                            Traceback (most recent call last)",
      "Cell \u001b[0;32mIn[6], line 3\u001b[0m\n\u001b[1;32m      1\u001b[0m \u001b[38;5;28;01mfrom\u001b[39;00m \u001b[38;5;21;01mttkbootstrap\u001b[39;00m \u001b[38;5;28;01mimport\u001b[39;00m \u001b[38;5;241m*\u001b[39m\n\u001b[1;32m      2\u001b[0m \u001b[38;5;66;03m# default meter style\u001b[39;00m\n\u001b[0;32m----> 3\u001b[0m \u001b[43mMeter\u001b[49m\u001b[43m(\u001b[49m\u001b[43m)\u001b[49m\n\u001b[1;32m      5\u001b[0m \u001b[38;5;66;03m# info colored meter\u001b[39;00m\n\u001b[1;32m      6\u001b[0m Meter(bootstyle\u001b[38;5;241m=\u001b[39m\u001b[38;5;124m\"\u001b[39m\u001b[38;5;124minfo\u001b[39m\u001b[38;5;124m\"\u001b[39m)\n",
      "File \u001b[0;32m~/miniconda3/lib/python3.12/site-packages/ttkbootstrap/widgets.py:718\u001b[0m, in \u001b[0;36mMeter.__init__\u001b[0;34m(self, master, bootstyle, arcrange, arcoffset, amounttotal, amountused, wedgesize, metersize, metertype, meterthickness, showtext, interactive, stripethickness, textleft, textright, textfont, subtext, subtextstyle, subtextfont, stepsize, **kwargs)\u001b[0m\n\u001b[1;32m    715\u001b[0m \u001b[38;5;28mself\u001b[39m\u001b[38;5;241m.\u001b[39m_interactive \u001b[38;5;241m=\u001b[39m interactive\n\u001b[1;32m    716\u001b[0m \u001b[38;5;28mself\u001b[39m\u001b[38;5;241m.\u001b[39m_bindids \u001b[38;5;241m=\u001b[39m {}\n\u001b[0;32m--> 718\u001b[0m \u001b[38;5;28;43mself\u001b[39;49m\u001b[38;5;241;43m.\u001b[39;49m\u001b[43m_setup_widget\u001b[49m\u001b[43m(\u001b[49m\u001b[43m)\u001b[49m\n",
      "File \u001b[0;32m~/miniconda3/lib/python3.12/site-packages/ttkbootstrap/widgets.py:759\u001b[0m, in \u001b[0;36mMeter._setup_widget\u001b[0;34m(self)\u001b[0m\n\u001b[1;32m    757\u001b[0m \u001b[38;5;28mself\u001b[39m\u001b[38;5;241m.\u001b[39m_set_interactive_bind()\n\u001b[1;32m    758\u001b[0m \u001b[38;5;28mself\u001b[39m\u001b[38;5;241m.\u001b[39m_draw_base_image()\n\u001b[0;32m--> 759\u001b[0m \u001b[38;5;28;43mself\u001b[39;49m\u001b[38;5;241;43m.\u001b[39;49m\u001b[43m_draw_meter\u001b[49m\u001b[43m(\u001b[49m\u001b[43m)\u001b[49m\n\u001b[1;32m    761\u001b[0m \u001b[38;5;66;03m# set widget geometery\u001b[39;00m\n\u001b[1;32m    762\u001b[0m \u001b[38;5;28mself\u001b[39m\u001b[38;5;241m.\u001b[39mindicator\u001b[38;5;241m.\u001b[39mplace(x\u001b[38;5;241m=\u001b[39m\u001b[38;5;241m0\u001b[39m, y\u001b[38;5;241m=\u001b[39m\u001b[38;5;241m0\u001b[39m)\n",
      "File \u001b[0;32m~/miniconda3/lib/python3.12/site-packages/ttkbootstrap/widgets.py:856\u001b[0m, in \u001b[0;36mMeter._draw_meter\u001b[0;34m(self, *_)\u001b[0m\n\u001b[1;32m    852\u001b[0m \u001b[38;5;28;01melse\u001b[39;00m:\n\u001b[1;32m    853\u001b[0m     \u001b[38;5;28mself\u001b[39m\u001b[38;5;241m.\u001b[39m_draw_solid_meter(draw)\n\u001b[1;32m    855\u001b[0m \u001b[38;5;28mself\u001b[39m\u001b[38;5;241m.\u001b[39m_meterimage \u001b[38;5;241m=\u001b[39m ImageTk\u001b[38;5;241m.\u001b[39mPhotoImage(\n\u001b[0;32m--> 856\u001b[0m     img\u001b[38;5;241m.\u001b[39mresize((\u001b[38;5;28mself\u001b[39m\u001b[38;5;241m.\u001b[39m_metersize, \u001b[38;5;28mself\u001b[39m\u001b[38;5;241m.\u001b[39m_metersize), \u001b[43mImage\u001b[49m\u001b[38;5;241;43m.\u001b[39;49m\u001b[43mCUBIC\u001b[49m)\n\u001b[1;32m    857\u001b[0m )\n\u001b[1;32m    858\u001b[0m \u001b[38;5;28mself\u001b[39m\u001b[38;5;241m.\u001b[39mindicator\u001b[38;5;241m.\u001b[39mconfigure(image\u001b[38;5;241m=\u001b[39m\u001b[38;5;28mself\u001b[39m\u001b[38;5;241m.\u001b[39m_meterimage)\n",
      "\u001b[0;31mAttributeError\u001b[0m: module 'PIL.Image' has no attribute 'CUBIC'"
     ]
    }
   ],
   "source": [
    "from ttkbootstrap import *\n",
    "# default meter style\n",
    "Meter()\n",
    "\n",
    "# info colored meter\n",
    "Meter(bootstyle=\"info\")\n",
    "\n",
    "# danger color subtext\n",
    "Meter(subtextstyle=\"danger\")\n",
    "\n",
    "# success colored meter with warning colored subtext\n",
    "Meter(bootstyle=\"success\", subtextstyle=\"warning\")\n"
   ]
  },
  {
   "cell_type": "code",
   "execution_count": 22,
   "id": "00209666",
   "metadata": {},
   "outputs": [
    {
     "name": "stdout",
     "output_type": "stream",
     "text": [
      "Received one argument: 1\n",
      "(10,)\n",
      "Received two arguments: 2\n",
      "hamza 1 hamza True\n",
      "<class 'int'>\n",
      "<class 'float'>\n",
      "<class 'str'>\n"
     ]
    }
   ],
   "source": [
    "class MyClass:\n",
    "    def my_method(self, *args):\n",
    "        if len(args) == 1:\n",
    "            # Method behavior for one argument\n",
    "            print(\"Received one argument:\", len(args))\n",
    "            print(args)\n",
    "        elif len(args) == 2:\n",
    "            # Method behavior for two arguments\n",
    "            print(\"Received two arguments:\", len(args))\n",
    "\n",
    "# Usage\n",
    "obj = MyClass()\n",
    "obj.my_method(10)          # Output: Received one argument: 10\n",
    "obj.my_method(20, 30) \n",
    "print(\"hamza\",len((\"hamza\",)),(\"hamza\",)[0],\"hamza\"==(\"hamza\",)[0])\n",
    "x=(1,1.5,\"hello\")\n",
    "for t in x: print(type(t))"
   ]
  },
  {
   "cell_type": "code",
   "execution_count": 1,
   "id": "0151f2de",
   "metadata": {},
   "outputs": [
    {
     "name": "stdout",
     "output_type": "stream",
     "text": [
      "0\n"
     ]
    }
   ],
   "source": [
    "print(0%2)"
   ]
  },
  {
   "cell_type": "code",
   "execution_count": 8,
   "id": "257b79f6",
   "metadata": {},
   "outputs": [],
   "source": [
    "try:\n",
    "    import Tkinter as tk\n",
    "    import ttk\n",
    "except ImportError:  # Python 3\n",
    "    import tkinter as tk\n",
    "    from tkinter import ttk\n",
    "\n",
    "class CustomNotebook(ttk.Notebook):\n",
    "    \"\"\"A ttk Notebook with close buttons on each tab\"\"\"\n",
    "\n",
    "    __initialized = False\n",
    "\n",
    "    def __init__(self, *args, **kwargs):\n",
    "        if not self.__initialized:\n",
    "            self.__initialize_custom_style()\n",
    "            self.__inititialized = True\n",
    "\n",
    "        kwargs[\"style\"] = \"CustomNotebook\"\n",
    "        ttk.Notebook.__init__(self, *args, **kwargs)\n",
    "\n",
    "        self._active = None\n",
    "\n",
    "        self.bind(\"<ButtonPress-1>\", self.on_close_press, True)\n",
    "        self.bind(\"<ButtonRelease-1>\", self.on_close_release)\n",
    "\n",
    "    def on_close_press(self, event):\n",
    "        \"\"\"Called when the button is pressed over the close button\"\"\"\n",
    "\n",
    "        element = self.identify(event.x, event.y)\n",
    "\n",
    "        if \"close\" in element:\n",
    "            index = self.index(\"@%d,%d\" % (event.x, event.y))\n",
    "            self.state(['pressed'])\n",
    "            self._active = index\n",
    "            return \"break\"\n",
    "\n",
    "    def on_close_release(self, event):\n",
    "        \"\"\"Called when the button is released\"\"\"\n",
    "        if not self.instate(['pressed']):\n",
    "            return\n",
    "\n",
    "        element =  self.identify(event.x, event.y)\n",
    "        if \"close\" not in element:\n",
    "            # user moved the mouse off of the close button\n",
    "            return\n",
    "\n",
    "        index = self.index(\"@%d,%d\" % (event.x, event.y))\n",
    "\n",
    "        if self._active == index:\n",
    "            self.forget(index)\n",
    "            self.event_generate(\"<<NotebookTabClosed>>\")\n",
    "\n",
    "        self.state([\"!pressed\"])\n",
    "        self._active = None\n",
    "\n",
    "    def __initialize_custom_style(self):\n",
    "        style = ttk.Style()\n",
    "        self.images = (\n",
    "            tk.PhotoImage(\"img_close\", data='''\n",
    "                R0lGODlhCAAIAMIBAAAAADs7O4+Pj9nZ2Ts7Ozs7Ozs7Ozs7OyH+EUNyZWF0ZWQg\n",
    "                d2l0aCBHSU1QACH5BAEKAAQALAAAAAAIAAgAAAMVGDBEA0qNJyGw7AmxmuaZhWEU\n",
    "                5kEJADs=\n",
    "                '''),\n",
    "            tk.PhotoImage(\"img_closeactive\", data='''\n",
    "                R0lGODlhCAAIAMIEAAAAAP/SAP/bNNnZ2cbGxsbGxsbGxsbGxiH5BAEKAAQALAAA\n",
    "                AAAIAAgAAAMVGDBEA0qNJyGw7AmxmuaZhWEU5kEJADs=\n",
    "                '''),\n",
    "            tk.PhotoImage(\"img_closepressed\", data='''\n",
    "                R0lGODlhCAAIAMIEAAAAAOUqKv9mZtnZ2Ts7Ozs7Ozs7Ozs7OyH+EUNyZWF0ZWQg\n",
    "                d2l0aCBHSU1QACH5BAEKAAQALAAAAAAIAAgAAAMVGDBEA0qNJyGw7AmxmuaZhWEU\n",
    "                5kEJADs=\n",
    "            ''')\n",
    "        )\n",
    "\n",
    "        style.element_create(\"close\", \"image\", \"img_close\",\n",
    "                            (\"active\", \"pressed\", \"!disabled\", \"img_closepressed\"),\n",
    "                            (\"active\", \"!disabled\", \"img_closeactive\"), border=8, sticky='')\n",
    "        style.layout(\"CustomNotebook\", [(\"CustomNotebook.client\", {\"sticky\": \"nswe\"})])\n",
    "        style.layout(\"CustomNotebook.Tab\", [\n",
    "            (\"CustomNotebook.tab\", {\n",
    "                \"sticky\": \"nswe\",\n",
    "                \"children\": [\n",
    "                    (\"CustomNotebook.padding\", {\n",
    "                        \"side\": \"top\",\n",
    "                        \"sticky\": \"nswe\",\n",
    "                        \"children\": [\n",
    "                            (\"CustomNotebook.focus\", {\n",
    "                                \"side\": \"top\",\n",
    "                                \"sticky\": \"nswe\",\n",
    "                                \"children\": [\n",
    "                                    (\"CustomNotebook.label\", {\"side\": \"left\", \"sticky\": ''}),\n",
    "                                    (\"CustomNotebook.close\", {\"side\": \"left\", \"sticky\": ''}),\n",
    "                                ]\n",
    "                        })\n",
    "                    ]\n",
    "                })\n",
    "            ]\n",
    "        })\n",
    "    ])\n",
    "\n",
    "if __name__ == \"__main__\":\n",
    "    root = tk.Tk()\n",
    "    style = ttk.Style()\n",
    "    style.theme_use(\"default\")\n",
    "    style.configure(\"CustomNotebook\", background=\"#3e3e3e\", borderwidth=0, relief=\"flat\", padding=[0, 5, 0, 0])\n",
    "    style.map(\"CustomNotebook.Tab\", background=[(\"selected\", \"#1e1e1e\")], foreground=[(\"selected\", \"white\")])\n",
    "    style.configure(\"CustomNotebook.Tab\", background=\"#3e3e3e\", foreground=\"white\", padding=[10, 0])\n",
    "\n",
    "    notebook = CustomNotebook(width=200, height=200)\n",
    "    notebook.pack(side=\"top\", fill=\"both\", expand=True)\n",
    "\n",
    "    for color in (\"red\", \"orange\", \"green\", \"blue\", \"violet\"):\n",
    "        frame = tk.Frame(notebook, background=color)\n",
    "        notebook.add(frame, text=color)\n",
    "\n",
    "    root.mainloop()"
   ]
  }
 ],
 "metadata": {
  "kernelspec": {
   "display_name": "Python 3 (ipykernel)",
   "language": "python",
   "name": "python3"
  },
  "language_info": {
   "codemirror_mode": {
    "name": "ipython",
    "version": 3
   },
   "file_extension": ".py",
   "mimetype": "text/x-python",
   "name": "python",
   "nbconvert_exporter": "python",
   "pygments_lexer": "ipython3",
   "version": "3.12.3"
  }
 },
 "nbformat": 4,
 "nbformat_minor": 5
}
