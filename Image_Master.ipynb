{
 "cells": [
  {
   "cell_type": "code",
   "execution_count": 1,
   "id": "e421b276",
   "metadata": {},
   "outputs": [],
   "source": [
    "from tkinter import *\n",
    "from tkinter import filedialog\n",
    "from PIL import Image,ImageTk\n",
    "import os\n",
    "import image\n",
    "import imagemaster\n",
    "import cv2"
   ]
  },
  {
   "cell_type": "code",
   "execution_count": 2,
   "id": "34be2b4b",
   "metadata": {},
   "outputs": [],
   "source": [
    "def importimage():\n",
    "    # importIm.destroy()\n",
    "    global filename\n",
    "    filename = filedialog.askopenfilename(\n",
    "        initialdir=os.getcwd(),\n",
    "        title=\"Select image file\",\n",
    "        filetypes=([\n",
    "                   (\"PNG file\", \"*.png\"),\n",
    "                   (\"JPG file\", \"*.jpg\"),\n",
    "                   (\"JPEG file\", \"*.jpeg\"),\n",
    "                   (\"ALL file\", \"*.txt\")\n",
    "        ])\n",
    "    )\n",
    "    importedimage = Image.open(filename)\n",
    "    importedimage = ImageTk.PhotoImage(importedimage)\n",
    "    global lbl\n",
    "    lbl=Label(frame1,image=importedimage)\n",
    "    lbl.image = importedimage \n",
    "    lbl.pack(padx=10,pady=10)\n",
    "    #lbl.place(relx=0.5, rely=0.5, anchor=CENTER)\n",
    "    \n"
   ]
  },
  {
   "cell_type": "code",
   "execution_count": 3,
   "id": "fc40693e",
   "metadata": {},
   "outputs": [],
   "source": [
    "root = Tk()\n",
    "root.title(\"Image Master\")\n",
    "root.config(bg=\"#1e1e1e\")\n",
    "frame1 = LabelFrame(root, text=\"Image: \", padx=10, pady=10, width=700, height=600, bg=\"#1e1e1e\", fg=\"white\")\n",
    "frame1.pack(padx=10,pady=10)\n",
    "frame2 = LabelFrame(root, text=\"Tools: \", padx=10, pady=10, width=700, height=300, bg=\"#1e1e1e\", fg=\"white\")\n",
    "frame2.pack(padx=10,pady=10)\n",
    "importIm = Button(frame1, text=\"Import Image\", command=importimage)\n",
    "importIm.place(relx=0.5, rely=0.5, anchor=CENTER)"
   ]
  },
  {
   "cell_type": "code",
   "execution_count": 4,
   "id": "071ed99b",
   "metadata": {},
   "outputs": [],
   "source": [
    "#Button(frame2, text=\"BLUR\", width=12, height=2, font=\"arial 14 bold\", command=blurimage).place(x=10,y=50)\n",
    "Button(frame2, text=\"CONTOUR\", width=12, height=2, font=\"arial 14 bold\", command=None).pack()\n",
    "#Button(frame2, text=\"EMBOSS\", width=12, height=2, font=\"arial 14 bold\", command=embossimage).place(x=300, y=50)"
   ]
  },
  {
   "cell_type": "code",
   "execution_count": 5,
   "id": "5e2b88ab",
   "metadata": {},
   "outputs": [],
   "source": [
    "root.mainloop()"
   ]
  },
  {
   "cell_type": "code",
   "execution_count": 2,
   "id": "5e57287d",
   "metadata": {},
   "outputs": [
    {
     "name": "stdout",
     "output_type": "stream",
     "text": [
      "['edge_detect']\n"
     ]
    },
    {
     "name": "stderr",
     "output_type": "stream",
     "text": [
      "qt.qpa.plugin: Could not find the Qt platform plugin \"wayland\" in \"/home/natsu/miniconda3/lib/python3.12/site-packages/cv2/qt/plugins\"\n"
     ]
    }
   ],
   "source": [
    "im=imagemaster.imageProcessor(\"./src/free-images.jpg\")\n",
    "im.applyFilter(\"edge_detect\")\n",
    "print(im.filterList)\n",
    "im.image.show()\n",
    "npimage = cv2.imread(\"./src/image.jpg\");\n",
    "\n"
   ]
  },
  {
   "cell_type": "code",
   "execution_count": 5,
   "id": "294b4cfb",
   "metadata": {},
   "outputs": [
    {
     "name": "stdout",
     "output_type": "stream",
     "text": [
      "Error: ('dark', 'is not a valid theme.')\n"
     ]
    }
   ],
   "source": [
    "import tkinter as tk\n",
    "from ttkbootstrap import Style\n",
    "\n",
    "def on_switch_toggle():\n",
    "    print(\"Switch state:\", var.get())\n",
    "\n",
    "root = tk.Tk()\n",
    "root.title(\"Dark Switch Demo\")\n",
    "\n",
    "try:\n",
    "    # Create a ttkbootstrap style with the dark theme\n",
    "    style = Style(theme=\"dark\")\n",
    "\n",
    "    # Apply the style to the root window\n",
    "    style.theme_use(\"dark\")\n",
    "\n",
    "    # Create a Checkbutton variable\n",
    "    var = tk.BooleanVar()\n",
    "\n",
    "    # Create a Checkbutton styled like a switch\n",
    "    switch = tk.Checkbutton(root, variable=var, command=on_switch_toggle,\n",
    "                             onvalue=True, offvalue=False,\n",
    "                             indicatoron=False, selectcolor=style.theme_cls.primary)\n",
    "\n",
    "    switch.pack()\n",
    "except Exception as e:\n",
    "    # If an error occurs, print the error message\n",
    "    print(\"Error:\", e)\n",
    "\n",
    "root.mainloop()\n"
   ]
  },
  {
   "cell_type": "code",
   "execution_count": 15,
   "id": "03c41f4f",
   "metadata": {},
   "outputs": [
    {
     "name": "stdout",
     "output_type": "stream",
     "text": [
      "2\n"
     ]
    }
   ],
   "source": [
    "str=[\"hamza\",None]\n",
    "print(len(str))"
   ]
  }
 ],
 "metadata": {
  "kernelspec": {
   "display_name": "Python 3 (ipykernel)",
   "language": "python",
   "name": "python3"
  },
  "language_info": {
   "codemirror_mode": {
    "name": "ipython",
    "version": 3
   },
   "file_extension": ".py",
   "mimetype": "text/x-python",
   "name": "python",
   "nbconvert_exporter": "python",
   "pygments_lexer": "ipython3",
   "version": "3.12.2"
  }
 },
 "nbformat": 4,
 "nbformat_minor": 5
}
