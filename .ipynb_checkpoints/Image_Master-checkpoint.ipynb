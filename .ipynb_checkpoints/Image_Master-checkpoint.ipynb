{
 "cells": [
  {
   "cell_type": "code",
   "execution_count": null,
   "id": "e421b276",
   "metadata": {},
   "outputs": [],
   "source": [
    "from tkinter import *\n",
    "from tkinter import filedialog\n",
    "import os\n",
    "import image\n",
    "import imagemaster\n"
   ]
  },
  {
   "cell_type": "code",
   "execution_count": null,
   "id": "34be2b4b",
   "metadata": {},
   "outputs": [],
   "source": [
    "def importimage():\n",
    "    importIm.destroy()\n",
    "    global filename\n",
    "    filename = filedialog.askopenfilename(\n",
    "        initialdir=os.getcwd(),\n",
    "        title=\"Select image file\",\n",
    "        filetypes=([\n",
    "                   (\"PNG file\", \"*.png\"),\n",
    "                   (\"JPG file\", \"*.jpg\"),\n",
    "                   (\"JPEG file\", \"*.jpeg\"),\n",
    "                   (\"ALL file\", \"*.txt\")\n",
    "        ])\n",
    "    )\n",
    "    importedimage = Image.open(filename)\n",
    "    importedimage = ImageTk.PhotoImage(importedimage)\n",
    "    global lbl\n",
    "    lbl=Label(frame1,image=importedimage)\n",
    "    lbl.image = importedimage \n",
    "    lbl.pack(padx=10,pady=10)\n",
    "    #lbl.place(relx=0.5, rely=0.5, anchor=CENTER)\n",
    "    \n"
   ]
  },
  {
   "cell_type": "code",
   "execution_count": null,
   "id": "fc40693e",
   "metadata": {},
   "outputs": [],
   "source": [
    "root = Tk()\n",
    "root.title(\"Image Master\")\n",
    "root.config(bg=\"#1e1e1e\")\n",
    "frame1 = LabelFrame(root, text=\"Image: \", padx=10, pady=10, width=700, height=600, bg=\"#1e1e1e\", fg=\"white\")\n",
    "frame1.pack(padx=10,pady=10)\n",
    "frame2 = LabelFrame(root, text=\"Tools: \", padx=10, pady=10, width=700, height=300, bg=\"#1e1e1e\", fg=\"white\")\n",
    "frame2.pack(padx=10,pady=10)\n",
    "importIm = Button(frame1, text=\"Import Image\", command=importimage)\n",
    "importIm.place(relx=0.5, rely=0.5, anchor=CENTER)"
   ]
  },
  {
   "cell_type": "code",
   "execution_count": null,
   "id": "071ed99b",
   "metadata": {},
   "outputs": [],
   "source": [
    "#Button(frame2, text=\"BLUR\", width=12, height=2, font=\"arial 14 bold\", command=blurimage).place(x=10,y=50)\n",
    "Button(frame2, text=\"CONTOUR\", width=12, height=2, font=\"arial 14 bold\", command=conturimage).pack()\n",
    "#Button(frame2, text=\"EMBOSS\", width=12, height=2, font=\"arial 14 bold\", command=embossimage).place(x=300, y=50)"
   ]
  },
  {
   "cell_type": "code",
   "execution_count": null,
   "id": "5e2b88ab",
   "metadata": {},
   "outputs": [],
   "source": [
    "root.mainloop()"
   ]
  },
  {
   "cell_type": "code",
   "execution_count": null,
   "id": "5e57287d",
   "metadata": {},
   "outputs": [],
   "source": [
    "# # import image\n",
    "# import imagemaster\n",
    "# # im = image.image(\"./src/free-images.jpg\")\n",
    "# # im.blur()\n",
    "# # im.sharpen()\n",
    "# # print(im.)\n",
    "# # # im.show()\n"
   ]
  },
  {
   "cell_type": "code",
   "execution_count": null,
   "id": "294b4cfb",
   "metadata": {},
   "outputs": [],
   "source": []
  }
 ],
 "metadata": {
  "kernelspec": {
   "display_name": "Python 3 (ipykernel)",
   "language": "python",
   "name": "python3"
  },
  "language_info": {
   "codemirror_mode": {
    "name": "ipython",
    "version": 3
   },
   "file_extension": ".py",
   "mimetype": "text/x-python",
   "name": "python",
   "nbconvert_exporter": "python",
   "pygments_lexer": "ipython3",
   "version": "3.11.6"
  }
 },
 "nbformat": 4,
 "nbformat_minor": 5
}
